{
 "cells": [
  {
   "cell_type": "markdown",
   "id": "887f3bd5",
   "metadata": {},
   "source": [
    "## App Info Scraping\n",
    "We're interested in learning information about the games (genre, PEGI rating), to aid in gaining insights."
   ]
  }
 ],
 "metadata": {
  "kernelspec": {
   "display_name": "lshackaton-coinmind",
   "language": "python",
   "name": "python3"
  },
  "language_info": {
   "name": "python",
   "version": "3.12.10"
  }
 },
 "nbformat": 4,
 "nbformat_minor": 5
}
