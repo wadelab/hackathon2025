{
 "cells": [
  {
   "cell_type": "code",
   "execution_count": 1,
   "id": "2f197f38",
   "metadata": {},
   "outputs": [],
   "source": [
    "import pandas as pd\n",
    "\n",
    "data = pd.read_csv('input_data/combined_results.csv')"
   ]
  },
  {
   "cell_type": "code",
   "execution_count": 2,
   "id": "f1b7b7c8",
   "metadata": {},
   "outputs": [],
   "source": [
    "# remove everything after the space in Loot_Boxes\n",
    "data['Loot_Boxes'] = data['Loot_Boxes'].str.split(' ').str[0]\n",
    "\n",
    "# remove everything after the , in Loot_Boxes\n",
    "data['Loot_Boxes'] = data['Loot_Boxes'].str.split(',').str[0]\n",
    "\n",
    "# remove everything after the space in Gacha_Systems\t\n",
    "data['Gacha_Systems'] = data['Gacha_Systems'].str.split(' ').str[0]\n",
    "\n",
    "# remove everything after the , in Gacha_Systems\n",
    "data['Gacha_Systems'] = data['Gacha_Systems'].str.split(',').str[0]\n",
    "\n",
    "# same for Casino_Elements\n",
    "\n",
    "data['Casino_Elements'] = data['Casino_Elements'].str.split(' ').str[0]\n",
    "data['Casino_Elements'] = data['Casino_Elements'].str.split(',').str[0]\n",
    "\n",
    "\n",
    "# and Item_Gambling_Mechanics\n",
    "data['Item_Gambling_Connection'] = data['Item_Gambling_Connection'].str.split(' ').str[0]\n",
    "data['Item_Gambling_Connection'] = data['Item_Gambling_Connection'].str.split(',').str[0]\n",
    "\n",
    "# remove the () from monetization\n",
    "data['Monetization'] = data['Monetization'].str.split('(').str[0]\n",
    "\n",
    "data[\"Monetization\"] = data[\"Monetization\"].str.split(\",\").str[0]\n",
    "\n",
    "# remove the spaces at the end of the string\n",
    "data['Monetization'] = data['Monetization'].str.rstrip()\n",
    "# remove the spaces at the beginning of the string\n",
    "data['Monetization'] = data['Monetization'].str.lstrip()\n",
    "\n",
    "\n",
    "\n",
    "\n",
    "\n",
    "# remove the () from monetization\n",
    "data['Target_Audience'] = data['Target_Audience'].str.split('(').str[0]\n",
    "\n",
    "data[\"Target_Audience\"] = data[\"Target_Audience\"].str.split(\",\").str[0]\n",
    "\n",
    "# remove the spaces at the end of the string\n",
    "data['Target_Audience'] = data['Target_Audience'].str.rstrip()\n",
    "# remove the spaces at the beginning of the string\n",
    "data['Target_Audience'] = data['Target_Audience'].str.lstrip()\n",
    "\n"
   ]
  },
  {
   "cell_type": "code",
   "execution_count": 3,
   "id": "11ae7149",
   "metadata": {},
   "outputs": [],
   "source": [
    "def standardize_model_name(name):\n",
    "    \n",
    "    if pd.isna(name):\n",
    "        return \"Unknown\"\n",
    "    \n",
    "    name = name.strip().lower()\n",
    "\n",
    "    if 'free-to-play with ads' in name and 'in-app' in name:\n",
    "        return 'Free-to-play with ads and In-app purchases'\n",
    "    elif 'free-to-play with in-app' in name:\n",
    "        return 'In-app purchases'\n",
    "    elif'Free-to-play with In-app purchases' in name:\n",
    "        return 'In-app purchases'\n",
    "    elif 'free-to-play with ads' in name:\n",
    "        return 'Free-to-play with ads'\n",
    "    elif 'subscription' in name:\n",
    "        return 'Subscription model'\n",
    "    elif 'one-time' in name and 'in-app' in name:\n",
    "        return 'One-time purchase'\n",
    "    elif 'one-time' in name:\n",
    "        return 'One-time purchase'\n",
    "    elif 'in-app' in name:\n",
    "        return 'In-app purchases'\n",
    "    else:\n",
    "        return \"Unknown\"\n"
   ]
  },
  {
   "cell_type": "code",
   "execution_count": 4,
   "id": "a7b1e513",
   "metadata": {},
   "outputs": [
    {
     "data": {
      "text/plain": [
       "Loot_Boxes\n",
       "Yes        23603\n",
       "No         13998\n",
       "Without       20\n",
       "Yes/No        12\n",
       "Unknown        1\n",
       "Name: count, dtype: int64"
      ]
     },
     "execution_count": 4,
     "metadata": {},
     "output_type": "execute_result"
    }
   ],
   "source": [
    "data[\"Monetization\"] = data[\"Monetization\"].apply(standardize_model_name)\n",
    "data[\"Loot_Boxes\"].value_counts()\n"
   ]
  },
  {
   "cell_type": "code",
   "execution_count": 5,
   "id": "a8b06d59",
   "metadata": {},
   "outputs": [],
   "source": [
    "# convert Casino_Elements to bool dtype\n",
    "data['Casino_Elements'] = data['Casino_Elements'].apply(lambda x: True if x == 'Yes' else False).astype(bool)\n",
    "# convert Loot_Boxes to bool dtype\n",
    "data['Loot_Boxes'] = data['Loot_Boxes'].apply(lambda x: True if x == 'Yes' else False).astype(bool)\n",
    "# convert Item_Gambling_Mechanics to bool dtype\n",
    "data['Gacha_Systems'] = data['Gacha_Systems'].apply(lambda x: True if x == 'Yes' else False).astype(bool)\n",
    "\n",
    "data['Item_Gambling_Connection'] = data['Item_Gambling_Connection'].apply(lambda x: True if x == 'Yes' else False).astype(bool)\n"
   ]
  },
  {
   "cell_type": "code",
   "execution_count": 6,
   "id": "5f776012",
   "metadata": {},
   "outputs": [
    {
     "name": "stdout",
     "output_type": "stream",
     "text": [
      "Game_name 10825\n",
      "Item_bought 27795\n",
      "Amount_spent 2408\n",
      "Developer 10562\n",
      "Genre 1913\n",
      "Monetization 6\n",
      "Loot_Boxes 2\n",
      "Gacha_Systems 2\n",
      "Casino_Elements 2\n",
      "Item_Gambling_Connection 2\n",
      "Target_Audience 90\n"
     ]
    }
   ],
   "source": [
    "for col in data.columns[1:]:\n",
    "    print(col, len(data[col].unique()))"
   ]
  },
  {
   "cell_type": "code",
   "execution_count": 10,
   "id": "9b410740",
   "metadata": {},
   "outputs": [
    {
     "data": {
      "text/plain": [
       "Target_Audience\n",
       "Adults                                                                         29659\n",
       "Teenagers                                                                       5366\n",
       "Children                                                                        2424\n",
       "Teenagers/Adults                                                                  65\n",
       "Children/Teenagers                                                                13\n",
       "                                                                               ...  \n",
       "The target audience for \"Vikingard\" could be adults                                1\n",
       "Without explicit content ratings or descriptions                                   1\n",
       "Families/Children                                                                  1\n",
       "Teenagers - While not explicitly stated                                            1\n",
       "Adults - The complexity suggested by the game's name and the item purchased        1\n",
       "Name: count, Length: 89, dtype: int64"
      ]
     },
     "execution_count": 10,
     "metadata": {},
     "output_type": "execute_result"
    }
   ],
   "source": [
    "data[\"Target_Audience\"].value_counts()"
   ]
  },
  {
   "cell_type": "code",
   "execution_count": 8,
   "id": "fc8c4265",
   "metadata": {},
   "outputs": [],
   "source": [
    "# save the data\n",
    "data.to_csv('output_data/combined_results_cleaned.csv')"
   ]
  }
 ],
 "metadata": {
  "kernelspec": {
   "display_name": "myenv",
   "language": "python",
   "name": "python3"
  },
  "language_info": {
   "codemirror_mode": {
    "name": "ipython",
    "version": 3
   },
   "file_extension": ".py",
   "mimetype": "text/x-python",
   "name": "python",
   "nbconvert_exporter": "python",
   "pygments_lexer": "ipython3",
   "version": "3.9.21"
  }
 },
 "nbformat": 4,
 "nbformat_minor": 5
}
