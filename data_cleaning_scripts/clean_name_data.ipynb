{
 "cells": [
  {
   "cell_type": "code",
   "execution_count": 1,
   "id": "f1f3984e",
   "metadata": {},
   "outputs": [],
   "source": [
    "import pandas as pd\n",
    "from ftfy import fix_text\n",
    "import csv\n",
    "import json\n",
    "\n",
    "# get the data\n",
    "data = pd.read_csv(\"input_data/all_items_gplay.csv\", quoting=2)"
   ]
  },
  {
   "cell_type": "code",
   "execution_count": 2,
   "id": "9e37e155",
   "metadata": {},
   "outputs": [],
   "source": [
    "# fix mojibake\n",
    "for col in data.select_dtypes(include='object'):\n",
    "    data[col] = data[col].astype(str).apply(fix_text)\n",
    "    \n",
    "    \n",
    "import re\n",
    "# find all the parenthesis and content in the game id and remove the parenthesis\n",
    "find_parenthesis = re.compile(r\"\\(([^)]*)\\)\")\n",
    "\n",
    "\n",
    "# apply the regex to the 'item_id' column and extract the last match\n",
    "data['game_name_from_item_id'] = data['item_id'].apply(\n",
    "    lambda x: find_parenthesis.findall(x)[-1] if find_parenthesis.findall(x) else \"\"\n",
    ")\n",
    "\n",
    "# remove the parenthesis from the game_name_from_item_id\n",
    "data['game_name_from_item_id'] = data['game_name_from_item_id'].str.replace(r\"\\(|\\)\", \"\", regex=True)\n",
    "\n",
    "# drop \"Set\" from the game_name_from_item_id\n",
    "data['game_name_from_item_id'] = data['game_name_from_item_id'].str.replace(\"Set\", \"\", regex=False)"
   ]
  },
  {
   "cell_type": "code",
   "execution_count": 3,
   "id": "1e81d922",
   "metadata": {},
   "outputs": [],
   "source": [
    "# create the game_name column\n",
    "\n",
    "data[\"game_name\"] = data.apply(\n",
    "    lambda row: row[\"game_name_from_item_id\"] if \"Reward:\" in row[col] else row[\"game_id\"],\n",
    "    axis=1\n",
    ")\n"
   ]
  },
  {
   "cell_type": "code",
   "execution_count": 4,
   "id": "b1a0b7d7",
   "metadata": {},
   "outputs": [
    {
     "data": {
      "text/plain": [
       "game_name\n",
       "Coin Master                     630\n",
       "Love Nikki-Dress UP Queen       438\n",
       "DRAGON BALL Z DOKKAN BATTLE     336\n",
       "Star Wars™: Galaxy of Heroes    183\n",
       "GODDESS OF VICTORY: NIKKE       167\n",
       "                               ... \n",
       "Zombies.io                        1\n",
       "Zombies, Run! 11                  1\n",
       "Zombies, Run! 10                  1\n",
       "Zombies, Run!                     1\n",
       "ZOMBIES ATE MY FRIENDS            1\n",
       "Name: count, Length: 10793, dtype: int64"
      ]
     },
     "execution_count": 4,
     "metadata": {},
     "output_type": "execute_result"
    }
   ],
   "source": [
    "data[\"game_name\"].value_counts()"
   ]
  },
  {
   "cell_type": "code",
   "execution_count": 5,
   "id": "1df68e92",
   "metadata": {},
   "outputs": [],
   "source": [
    "# if the game_name start with [] remove the brackets and the content inside\n",
    "data[\"game_name\"] = data[\"game_name\"].str.replace(r\"\\[.*?\\]\", \"\", regex=True)\n",
    "\n",
    "# if the game_name ends with [] remove the brackets and the content inside\n",
    "data[\"game_name\"] = data[\"game_name\"].str.replace(r\"\\[.*?\\]$\", \"\", regex=True)\n",
    "\n",
    "# convert the game_name to lowercase\n",
    "data[\"game_name\"] = data[\"game_name\"].str.lower()\n",
    "\n",
    "# remove the trademark and copyright symbols\n",
    "data[\"game_name\"] = data[\"game_name\"].str.replace(r\"™|®\", \"\", regex=True)\n",
    "\n",
    "# remove the extra spaces\n",
    "data[\"game_name\"] = data[\"game_name\"].str.replace(r\"\\s+\", \" \", regex=True)\n",
    "data[\"game_name\"] = data[\"game_name\"].str.strip()\n",
    "\n",
    "# remove the special characters but keep accents and spaces\n",
    "#data[\"game_name\"] = data[\"game_name\"].str.replace(r\"[^a-zA-Z0-9\\s]\", \"\", regex=True)\n",
    "\n",
    "\n"
   ]
  },
  {
   "cell_type": "code",
   "execution_count": 6,
   "id": "9a2ae381",
   "metadata": {},
   "outputs": [],
   "source": [
    "# for all the columns with no game_name check split the item_id by , and take everything but the last element\n",
    "data[\"game_name\"] = data.apply(\n",
    "    lambda row: \",\".join(row[\"item_id\"].split(\",\")[:-1]) if row[\"game_name\"] == \"\" else row[\"game_name\"],\n",
    "    axis=1\n",
    ")\n",
    "# for all the columns where game_id is \"ad free\" or \"Ad free\", the game_name is \"item_id\"\n",
    "data[\"game_name\"] = data.apply(\n",
    "    lambda row: row[\"item_id\"] if row[\"game_id\"] in [\"ad free\", \"Ad free\", \"Ad Free\",\"Ads-free\",\"50% OFF\"] else row[\"game_name\"],\n",
    "    axis=1\n",
    ")"
   ]
  },
  {
   "cell_type": "code",
   "execution_count": 7,
   "id": "99d417dd",
   "metadata": {},
   "outputs": [],
   "source": [
    "def normalize_game_name(name):\n",
    "    if pd.isna(name):\n",
    "        return name\n",
    "    words = name.strip().split()\n",
    "    words.sort()\n",
    "    return ' '.join(words)"
   ]
  },
  {
   "cell_type": "code",
   "execution_count": 8,
   "id": "5fe1f0b0",
   "metadata": {},
   "outputs": [],
   "source": [
    "data[\"normalized_game_name\"] = data[\"game_name\"].apply(normalize_game_name)"
   ]
  },
  {
   "cell_type": "code",
   "execution_count": 9,
   "id": "ce58036c",
   "metadata": {},
   "outputs": [
    {
     "data": {
      "text/plain": [
       "normalized_game_name\n",
       "coin master                       630\n",
       "love nikki-dress queen up         438\n",
       "ball battle dokkan dragon z       336\n",
       "galaxy heroes of star wars:       183\n",
       "goddess nikke of victory:         167\n",
       "                                 ... \n",
       "- 1 2 3 4 games offline player      1\n",
       "10 billion husbands                 1\n",
       "10 bowling pin shuffle              1\n",
       "defense: survival war z zombie      1\n",
       "2:survive frontier zombie           1\n",
       "Name: count, Length: 10672, dtype: int64"
      ]
     },
     "execution_count": 9,
     "metadata": {},
     "output_type": "execute_result"
    }
   ],
   "source": [
    "data[\"normalized_game_name\"].value_counts()"
   ]
  },
  {
   "cell_type": "code",
   "execution_count": 10,
   "id": "cb1dda23",
   "metadata": {},
   "outputs": [],
   "source": [
    "# save the data to a csv file\n",
    "data.to_csv(\"output_data/all_items_gplay_with_game_names.csv\", index=False)"
   ]
  },
  {
   "cell_type": "code",
   "execution_count": 11,
   "id": "992989f4",
   "metadata": {},
   "outputs": [],
   "source": [
    "# save the list of unique game names to a json file\n",
    "unique_game_names = data[\"game_name\"].unique()\n"
   ]
  },
  {
   "cell_type": "code",
   "execution_count": null,
   "id": "8ba1ee61",
   "metadata": {},
   "outputs": [
    {
     "name": "stdout",
     "output_type": "stream",
     "text": [
      "['94%' '2048' '50,000' ... 'z-warrior chronicles'\n",
      " 'zynga poker – texas holdem'\n",
      " 'zynga poker – free texas holdem online card games']\n"
     ]
    }
   ],
   "source": []
  }
 ],
 "metadata": {
  "kernelspec": {
   "display_name": ".venv",
   "language": "python",
   "name": "python3"
  },
  "language_info": {
   "codemirror_mode": {
    "name": "ipython",
    "version": 3
   },
   "file_extension": ".py",
   "mimetype": "text/x-python",
   "name": "python",
   "nbconvert_exporter": "python",
   "pygments_lexer": "ipython3",
   "version": "3.12.4"
  }
 },
 "nbformat": 4,
 "nbformat_minor": 5
}
