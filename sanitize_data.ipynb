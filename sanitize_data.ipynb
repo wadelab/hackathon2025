{
 "cells": [
  {
   "cell_type": "code",
   "execution_count": null,
   "id": "93cc2ab0",
   "metadata": {},
   "outputs": [],
   "source": [
    "%pip install pandas\n",
    "%pip install ftfy"
   ]
  },
  {
   "cell_type": "code",
   "execution_count": 5,
   "id": "90839aa8",
   "metadata": {},
   "outputs": [],
   "source": [
    "#Manual fix to specific rows\n",
    "rowsTowSwap = [229, 230, 431, 515, 609, 610, 611, 1010, 1011, 1012, 1014, 1015, 1016, 1037,]\n",
    "for i in range(len(rowsTowSwap)):\n",
    "    rowsTowSwap[i] -=2\n",
    "\n",
    "rowsToRemove = [10]\n",
    "for i in range(len(rowsToRemove)):\n",
    "    rowsToRemove[i] -=2    "
   ]
  },
  {
   "cell_type": "code",
   "execution_count": 6,
   "id": "02494360",
   "metadata": {},
   "outputs": [],
   "source": [
    "import pandas as pd\n",
    "from ftfy import fix_text\n",
    "import re\n",
    "\n",
    "# find game ids inside item ids\n",
    "find_parenthesis = re.compile(r\"^(.+?)\\s*\\(([^()]*)\\), Reward\")\n",
    "\n",
    "#find rows with no items\n",
    "find_games_noitems = re.compile(r\"(.*)\\, Reward: .*\")\n",
    "\n",
    "#manual cleaning of game ids starting with brackets like [root] or [premium]\n",
    "bracketsInGameID = re.compile(r\"^\\[.*\\] ?(.*)\")"
   ]
  },
  {
   "cell_type": "code",
   "execution_count": 7,
   "id": "05cef375",
   "metadata": {},
   "outputs": [],
   "source": [
    "# get the data\n",
    "data = pd.read_csv(\"all_items_gplay.csv\")"
   ]
  },
  {
   "cell_type": "code",
   "execution_count": 8,
   "id": "b4ab5315",
   "metadata": {},
   "outputs": [],
   "source": [
    "\n",
    "# create a new dataframe to store the fixed data\n",
    "fixed = pd.DataFrame(columns=['game_id','item_id','n','median_amount_USD'])\n",
    "\n",
    "fixedList = []\n",
    "\n",
    "for index, row in data.iterrows():\n",
    "    # get the game_id and item_id\n",
    "    game_id = fix_text(row['game_id'])\n",
    "    item_id = fix_text(row['item_id'])\n",
    "    # get the n and median_amount_USD\n",
    "    number = row['n']\n",
    "    median_amount = row['median_amount_USD']\n",
    "\n",
    "    if (find_parenthesis.match(item_id)):\n",
    "        game_id = find_parenthesis.search(item_id).group(2)\n",
    "        item_id = find_parenthesis.search(item_id).group(1)\n",
    "\n",
    "    if (find_games_noitems.match(item_id)):\n",
    "        game_id = find_games_noitems.search(item_id).group(1)\n",
    "        item_id = \"\"\n",
    "        rowsToRemove.append(index)\n",
    "\n",
    "\n",
    "    if( bracketsInGameID.match(game_id)):\n",
    "        game_id = bracketsInGameID.search(game_id).group(1)\n",
    "\n",
    "    if (index in rowsTowSwap):\n",
    "        # swap the game_id and item_id in for manual fix\n",
    "        temp = game_id\n",
    "        game_id = item_id\n",
    "        item_id = temp\n",
    "\n",
    "    fixed_row = pd.Series({'game_id': game_id, 'item_id': item_id, 'n': number, 'median_amount_USD': median_amount})\n",
    "    # append the new row to the dataframe\n",
    "    fixedList.append(fixed_row)\n",
    "\n",
    "fixed = pd.DataFrame(fixedList)\n",
    "\n"
   ]
  },
  {
   "cell_type": "markdown",
   "id": "3e38dacd",
   "metadata": {},
   "source": [
    "#If needed, remove rows with no items or unusable data\n",
    "fixedList = []\n",
    "\n",
    "for index, row in fixed.iterrows():\n",
    "    # get the game_id and item_id\n",
    "    game_id = row['game_id']\n",
    "    item_id = row['item_id']\n",
    "    # get the n and median_amount_USD\n",
    "    number = row['n']\n",
    "    median_amount = row['median_amount_USD']\n",
    "\n",
    "    # create a new row with the fixed text\n",
    "    if (index not in rowsToRemove):\n",
    "        fixed_row = pd.Series({'game_id': game_id, 'item_id': item_id, 'n': number, 'median_amount_USD': median_amount})\n",
    "        # append the new row to the dataframe\n",
    "        fixedList.append(fixed_row)\n",
    "\n",
    "fixed = pd.DataFrame(fixedList)"
   ]
  },
  {
   "cell_type": "markdown",
   "id": "29ff2c81",
   "metadata": {},
   "source": [
    "# sort data\n",
    "fixed.sort_values(by=['game_id', 'item_id'], inplace=True)\n",
    "fixed.reset_index(drop=True, inplace=True)"
   ]
  },
  {
   "cell_type": "code",
   "execution_count": 9,
   "id": "288f624f",
   "metadata": {},
   "outputs": [],
   "source": [
    "#save the fixed data to a new csv file\n",
    "fixed.to_csv(\"all_items_gplay_fixed.csv\", index=False)"
   ]
  }
 ],
 "metadata": {
  "kernelspec": {
   "display_name": "base",
   "language": "python",
   "name": "python3"
  },
  "language_info": {
   "codemirror_mode": {
    "name": "ipython",
    "version": 3
   },
   "file_extension": ".py",
   "mimetype": "text/x-python",
   "name": "python",
   "nbconvert_exporter": "python",
   "pygments_lexer": "ipython3",
   "version": "3.12.9"
  }
 },
 "nbformat": 4,
 "nbformat_minor": 5
}
