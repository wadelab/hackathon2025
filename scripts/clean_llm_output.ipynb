{
 "cells": [
  {
   "cell_type": "code",
   "execution_count": 1,
   "id": "2f197f38",
   "metadata": {},
   "outputs": [],
   "source": [
    "import pandas as pd\n",
    "\n",
    "data = pd.read_csv('combined_results.csv')"
   ]
  },
  {
   "cell_type": "code",
   "execution_count": 2,
   "id": "f1b7b7c8",
   "metadata": {},
   "outputs": [],
   "source": [
    "# remove everything after the space in Loot_Boxes\n",
    "data['Loot_Boxes'] = data['Loot_Boxes'].str.split(' ').str[0]\n",
    "\n",
    "# remove everything after the , in Loot_Boxes\n",
    "data['Loot_Boxes'] = data['Loot_Boxes'].str.split(',').str[0]\n",
    "\n",
    "# same for Casino_Elements\n",
    "\n",
    "data['Casino_Elements'] = data['Casino_Elements'].str.split(' ').str[0]\n",
    "data['Casino_Elements'] = data['Casino_Elements'].str.split(',').str[0]\n",
    "\n",
    "# and Item_Gambling_Mechanics\n",
    "data['Item_Gambling_Mechanics'] = data['Item_Gambling_Mechanics'].str.split(' ').str[0]\n",
    "data['Item_Gambling_Mechanics'] = data['Item_Gambling_Mechanics'].str.split(',').str[0]\n",
    "\n",
    "# remove the () from monetization\n",
    "data['Monetization'] = data['Monetization'].str.split('(').str[0]\n",
    "\n",
    "data[\"Monetization\"] = data[\"Monetization\"].str.split(\",\").str[0]\n",
    "\n",
    "# remove the spaces at the end of the string\n",
    "data['Monetization'] = data['Monetization'].str.rstrip()\n",
    "# remove the spaces at the beginning of the string\n",
    "data['Monetization'] = data['Monetization'].str.lstrip()\n",
    "\n",
    "# remove the spaces at the end of the string\n",
    "data[\"Game_Gambling_Rating\"] = data[\"Game_Gambling_Rating\"].str.split('(').str[0]\n",
    "data[\"Game_Gambling_Rating\"] = data[\"Game_Gambling_Rating\"].str.split(',').str[0]\n",
    "\n",
    "data[\"Item_Gambling_Rating\"] = data[\"Item_Gambling_Rating\"].str.split('(').str[0]\n",
    "data[\"Item_Gambling_Rating\"] = data[\"Item_Gambling_Rating\"].str.split(',').str[0]\n",
    "\n",
    "data[\"Confidence\"] = data[\"Confidence\"].str.split(' ').str[0]\n",
    "data[\"Confidence\"] = data[\"Confidence\"].str.split(',').str[0]\n",
    "data[\"Confidence\"] = data[\"Confidence\"].str.split('(').str[0]\n"
   ]
  },
  {
   "cell_type": "code",
   "execution_count": 3,
   "id": "b3e9b74f",
   "metadata": {},
   "outputs": [
    {
     "data": {
      "text/plain": [
       "Item_Gambling_Rating\n",
       "1     13708\n",
       "4      9294\n",
       "2      7821\n",
       "3      6951\n",
       "5       192\n",
       "2        68\n",
       "3        39\n",
       "1        38\n",
       "4         6\n",
       "Name: count, dtype: int64"
      ]
     },
     "execution_count": 3,
     "metadata": {},
     "output_type": "execute_result"
    }
   ],
   "source": [
    "data[\"Item_Gambling_Rating\"].value_counts()"
   ]
  },
  {
   "cell_type": "code",
   "execution_count": 4,
   "id": "11ae7149",
   "metadata": {},
   "outputs": [],
   "source": [
    "def standardize_model_name(name):\n",
    "    name = name.strip().lower()\n",
    "\n",
    "    if 'free-to-play with ads' in name and 'in-app' in name:\n",
    "        return 'Free-to-play with ads and In-app purchases'\n",
    "    elif 'free-to-play with in-app' in name:\n",
    "        return 'In-app purchases'\n",
    "    elif'Free-to-play with In-app purchases' in name:\n",
    "        return 'In-app purchases'\n",
    "    elif 'free-to-play with ads' in name:\n",
    "        return 'Free-to-play with ads'\n",
    "    elif 'subscription' in name:\n",
    "        return 'Subscription model'\n",
    "    elif 'one-time' in name and 'in-app' in name:\n",
    "        return 'One-time purchase'\n",
    "    elif 'one-time' in name:\n",
    "        return 'One-time purchase'\n",
    "    elif 'in-app' in name:\n",
    "        return 'In-app purchases'\n",
    "    else:\n",
    "        return name.title()\n"
   ]
  },
  {
   "cell_type": "code",
   "execution_count": 5,
   "id": "a7b1e513",
   "metadata": {},
   "outputs": [
    {
     "data": {
      "text/plain": [
       "Loot_Boxes\n",
       "Yes    23559\n",
       "No     14558\n",
       "Name: count, dtype: int64"
      ]
     },
     "execution_count": 5,
     "metadata": {},
     "output_type": "execute_result"
    }
   ],
   "source": [
    "data[\"Monetization\"] = data[\"Monetization\"].apply(standardize_model_name)\n",
    "data[\"Loot_Boxes\"].value_counts()\n"
   ]
  },
  {
   "cell_type": "code",
   "execution_count": 6,
   "id": "a8b06d59",
   "metadata": {},
   "outputs": [],
   "source": [
    "# convert Casino_Elements to bool dtype\n",
    "data['Casino_Elements'] = data['Casino_Elements'].apply(lambda x: True if x == 'Yes' else False).astype(bool)\n",
    "# convert Loot_Boxes to bool dtype\n",
    "data['Loot_Boxes'] = data['Loot_Boxes'].apply(lambda x: True if x == 'Yes' else False).astype(bool)\n",
    "# convert Item_Gambling_Mechanics to bool dtype\n",
    "data['Item_Gambling_Mechanics'] = data['Item_Gambling_Mechanics'].apply(lambda x: True if x == 'Yes' else False).astype(bool)\n",
    "\n",
    "# convert Game_Gambling_Rating to int\n",
    "data['Game_Gambling_Rating'] = data['Game_Gambling_Rating'].astype(int)\n",
    "# convert Item_Gambling_Rating to int\n",
    "data['Item_Gambling_Rating'] = data['Item_Gambling_Rating'].astype(int)\n",
    "# convert Confidence to int\n",
    "data['Confidence'] = data['Confidence'].astype(int)"
   ]
  },
  {
   "cell_type": "code",
   "execution_count": 7,
   "id": "73132410",
   "metadata": {},
   "outputs": [
    {
     "data": {
      "text/plain": [
       "Casino_Elements\n",
       "False    35399\n",
       "True      2718\n",
       "Name: count, dtype: int64"
      ]
     },
     "execution_count": 7,
     "metadata": {},
     "output_type": "execute_result"
    }
   ],
   "source": [
    "data[\"Casino_Elements\"].value_counts()"
   ]
  },
  {
   "cell_type": "code",
   "execution_count": 17,
   "id": "d48cca0d",
   "metadata": {},
   "outputs": [
    {
     "name": "stdout",
     "output_type": "stream",
     "text": [
      "Casino_Elements\n",
      "False    35399\n",
      "True      2718\n",
      "Name: count, dtype: int64\n",
      "Loot_Boxes\n",
      "True     23559\n",
      "False    14558\n",
      "Name: count, dtype: int64\n",
      "Item_Gambling_Mechanics\n",
      "True     22856\n",
      "False    15261\n",
      "Name: count, dtype: int64\n",
      "Monetization\n",
      "In-app purchases                              33853\n",
      "Subscription model                             2138\n",
      "Free-to-play with ads                           779\n",
      "Free-to-play with ads and In-app purchases      709\n",
      "One-time purchase                               638\n",
      "Name: count, dtype: int64\n",
      "Confidence\n",
      "4    13563\n",
      "2    13300\n",
      "3     9688\n",
      "1     1054\n",
      "5      512\n",
      "Name: count, dtype: int64\n",
      "Game_Gambling_Rating\n",
      "4    13244\n",
      "1    13075\n",
      "3     9016\n",
      "2     2182\n",
      "5      600\n",
      "Name: count, dtype: int64\n",
      "Item_Gambling_Rating\n",
      "1    13746\n",
      "4     9300\n",
      "2     7889\n",
      "3     6990\n",
      "5      192\n",
      "Name: count, dtype: int64\n"
     ]
    }
   ],
   "source": [
    "print(data[\"Casino_Elements\"].value_counts())\n",
    "print(data[\"Loot_Boxes\"].value_counts())\n",
    "print(data[\"Item_Gambling_Mechanics\"].value_counts())\n",
    "print(data[\"Monetization\"].value_counts())\n",
    "print(data[\"Confidence\"].value_counts())\n",
    "print(data[\"Game_Gambling_Rating\"].value_counts())\n",
    "print(data[\"Item_Gambling_Rating\"].value_counts())"
   ]
  },
  {
   "cell_type": "code",
   "execution_count": null,
   "id": "fc8c4265",
   "metadata": {},
   "outputs": [],
   "source": [
    "# save the data\n",
    "data.to_csv('combined_results_cleaned.csv')"
   ]
  }
 ],
 "metadata": {
  "kernelspec": {
   "display_name": ".venv",
   "language": "python",
   "name": "python3"
  },
  "language_info": {
   "codemirror_mode": {
    "name": "ipython",
    "version": 3
   },
   "file_extension": ".py",
   "mimetype": "text/x-python",
   "name": "python",
   "nbconvert_exporter": "python",
   "pygments_lexer": "ipython3",
   "version": "3.12.4"
  }
 },
 "nbformat": 4,
 "nbformat_minor": 5
}
