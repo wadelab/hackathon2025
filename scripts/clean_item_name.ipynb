{
 "cells": [
  {
   "cell_type": "code",
   "execution_count": 1,
   "id": "1ce0dc5f",
   "metadata": {},
   "outputs": [],
   "source": [
    "import pandas as pd\n",
    "from ftfy import fix_text\n",
    "import csv\n",
    "\n",
    "# get the data\n",
    "data = pd.read_csv(\"all_items_gplay_with_game_names.csv\", quoting=2)"
   ]
  },
  {
   "cell_type": "code",
   "execution_count": 2,
   "id": "c8de72d0",
   "metadata": {},
   "outputs": [],
   "source": [
    "data['item_name'] = data.apply(\n",
    "    lambda row: row['item_id'].replace(row['game_name'], '') if row['game_name'] in row['item_id'] else \"\",\n",
    "    axis=1\n",
    ")\n",
    "\n",
    "# if th item_id has a parenthesis take the text before the parenthesis\n",
    "data['item_name'] = data.apply(\n",
    "    lambda row: row['item_id'].split('(')[0] if '(' in row['item_id'] else row['item_name'],\n",
    "    axis=1\n",
    ")\n",
    "\n",
    "# remove all the \"Reward:\" from the item_name\n",
    "data['item_name'] = data.apply(\n",
    "    lambda row: row['item_name'].replace('Reward:', '') if 'Reward:' in row['item_name'] else row['item_name'],\n",
    "    axis=1\n",
    ") \n",
    "\n",
    "# if it starts by , remove it and all the spaces after it\n",
    "data['item_name'] = data.apply(\n",
    "    lambda row: row['item_name'].split(',')[1] if ',' in row['item_name'] else row['item_name'],\n",
    "    axis=1\n",
    ")\n",
    "\n",
    "# remove all the spaces at the beginning and end of the item_name\n",
    "data['item_name'] = data.apply(\n",
    "    lambda row: row['item_name'].strip() if row['item_name'] else row['item_name'],\n",
    "    axis=1\n",
    ")\n",
    "\n",
    "#if item_name is still empty, then we use item_id\n",
    "data[\"item_name\"] = data.apply(\n",
    "    lambda row: row[\"item_id\"] if row[\"item_name\"] == \"\" else row[\"item_name\"],\n",
    "    axis=1\n",
    ")\n",
    "\n"
   ]
  },
  {
   "cell_type": "code",
   "execution_count": 4,
   "id": "3c354d25",
   "metadata": {},
   "outputs": [],
   "source": [
    "#save the data\n",
    "data.to_csv(\"all_items_gplay_with_game_names_item_names.csv\")"
   ]
  },
  {
   "cell_type": "code",
   "execution_count": 5,
   "id": "bde14ffe",
   "metadata": {},
   "outputs": [],
   "source": [
    "# drop game_name_from_item_id and normalized_game_name columns\n",
    "data = data.drop(columns=['game_name_from_item_id', 'normalized_game_name'])\n",
    "\n",
    "# save the data again\n",
    "data.to_csv(\"all_items_gplay_cleaned.csv\", index=False)"
   ]
  }
 ],
 "metadata": {
  "kernelspec": {
   "display_name": ".venv",
   "language": "python",
   "name": "python3"
  },
  "language_info": {
   "codemirror_mode": {
    "name": "ipython",
    "version": 3
   },
   "file_extension": ".py",
   "mimetype": "text/x-python",
   "name": "python",
   "nbconvert_exporter": "python",
   "pygments_lexer": "ipython3",
   "version": "3.12.4"
  }
 },
 "nbformat": 4,
 "nbformat_minor": 5
}
