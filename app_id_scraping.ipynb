{
 "cells": [
  {
   "cell_type": "markdown",
   "id": "60b3be00",
   "metadata": {},
   "source": [
    "## App ID Scraping\n",
    "We're interested in knowing the app identifier (e.g. com.foobar.app) behind every application name mentioned in the dataset in order to reliably identify the app behind the transactions."
   ]
  },
  {
   "cell_type": "markdown",
   "id": "83cf4f7d",
   "metadata": {},
   "source": [
    "### Dataset Cleaning\n",
    "We remove rows involving 'Play Points', we might consider them later."
   ]
  },
  {
   "cell_type": "code",
   "execution_count": null,
   "id": "3276e877",
   "metadata": {},
   "outputs": [],
   "source": [
    "import pandas as pd\n",
    "\n",
    "df = pd.read_json('unique_game_ids.json')\n",
    "df.columns = ['app_name']\n",
    "\n",
    "# Drop rows that contain 'Play Points' in their names\n",
    "df = df[~df['app_name'].str.contains('Play Points', na=False)]"
   ]
  },
  {
   "cell_type": "markdown",
   "id": "6bf18ff1",
   "metadata": {},
   "source": [
    "### App Search\n",
    "We search for the app on the Play Store using its name and then return the closest reasonable match if there is any."
   ]
  },
  {
   "cell_type": "markdown",
   "id": "b55e5271",
   "metadata": {},
   "source": [
    "### Match Functions\n",
    "We need functions that define, given a set of results, the closest match"
   ]
  },
  {
   "cell_type": "code",
   "execution_count": null,
   "id": "28c7bc17",
   "metadata": {},
   "outputs": [],
   "source": [
    "from google_play_scraper import search\n",
    "from difflib import get_close_matches\n",
    "\n",
    "# Too bad, apps often change their names\n",
    "def get_first_app_id(app_name):\n",
    "    results = search(app_name, lang=\"en\", country=\"us\")\n",
    "    for result in results:\n",
    "        if result['title'].lower() == app_name.lower():\n",
    "            return result['appId']\n",
    "    return None\n",
    "\n",
    "# Uses fuzzy matching with a reasonable threshold, yields around 75% success rate!\n",
    "def get_closest_app_id(app_name):\n",
    "    try:\n",
    "        results = search(app_name, lang=\"en\", country=\"us\")\n",
    "        titles = [r['title'] for r in results]\n",
    "        close_matches = get_close_matches(app_name, titles, n=1, cutoff=0.6)\n",
    "        if close_matches:\n",
    "            # Find the result that matches the best title\n",
    "            match_title = close_matches[0]\n",
    "            for result in results:\n",
    "                if result['title'] == match_title:\n",
    "                    return result['appId']\n",
    "    except Exception as e:\n",
    "        print(f\"Error searching for {app_name}: {e}\")\n",
    "    return None"
   ]
  },
  {
   "cell_type": "markdown",
   "id": "ddd6f016",
   "metadata": {},
   "source": [
    "#### Single-Threaded Search Version (it takes 2h for our 11000 app names...)"
   ]
  },
  {
   "cell_type": "code",
   "execution_count": null,
   "id": "58ea72a6",
   "metadata": {},
   "outputs": [],
   "source": [
    "# Apply the fetch app ID function to each row\n",
    "#from tqdm import tqdm\n",
    "#tqdm.pandas()\n",
    "#df['app_id'] = df['app_name'].progress_apply(get_closest_app_id)\n",
    "#\n",
    "## Compute ratio of successful matches\n",
    "#total_apps = len(df)\n",
    "#found_count = df['app_id'].notna().sum()\n",
    "#success_ratio = found_count / total_apps\n",
    "#\n",
    "#print(f\"Found {found_count} out of {total_apps} apps. Success ratio: {success_ratio:.2%}\")"
   ]
  },
  {
   "cell_type": "markdown",
   "id": "66a011d3",
   "metadata": {},
   "source": [
    "#### \"Gotta Go Fast\" Version (Google doesn't like it!! (But I use Mullvad to rotate proxies 😊🕳️🪏🤫))"
   ]
  },
  {
   "cell_type": "markdown",
   "id": "948659d5",
   "metadata": {},
   "source": [
    "##### Load Latest Mullvad Relays"
   ]
  },
  {
   "cell_type": "code",
   "execution_count": null,
   "id": "1e5cce6b",
   "metadata": {},
   "outputs": [],
   "source": [
    "import requests\n",
    "\n",
    "# Ask Mullvad for its relays\n",
    "answer = requests.get(\"https://api.mullvad.net/www/relays/all/\")\n",
    "relays = answer.json()\n",
    "# Only keep the ones that work over SOCKS\n",
    "proxies = [\n",
    "    f\"socks5h://{relay['ipv4_addr_in']}:1080\"\n",
    "    for relay in relays\n",
    "    if relay.get('socks_name') and relay.get('ipv4_addr_in')\n",
    "]\n",
    "\n",
    "print(f\"Loaded {len(proxies)} SOCKS5 proxies from Mullvad.\")"
   ]
  },
  {
   "cell_type": "markdown",
   "id": "264536e1",
   "metadata": {},
   "source": [
    "##### Inject Proxy Rotation Into The HTTP Get Function"
   ]
  },
  {
   "cell_type": "code",
   "execution_count": null,
   "id": "211d3956",
   "metadata": {},
   "outputs": [],
   "source": [
    "import random\n",
    "import functools\n",
    "import urllib\n",
    "\n",
    "# Backup the original function\n",
    "original_urlopen = urllib.request.urlopen\n",
    "\n",
    "# Define the proxy-rotating function\n",
    "def proxied_urlopen(request, *args, **kwargs):\n",
    "    proxy = random.choice(proxies)\n",
    "    print('Rotating to proxy on '+proxy)\n",
    "    proxy_handler = urllib.request.ProxyHandler({\n",
    "        'http': proxy,\n",
    "        'https': proxy,\n",
    "    })\n",
    "    opener = urllib.request.build_opener(proxy_handler)\n",
    "    return opener.open(request, *args, **kwargs)\n",
    "\n",
    "# Monkey-patch the HTTP GET request function with the proxy-rotating one\n",
    "urllib.request.urlopen = proxied_urlopen"
   ]
  },
  {
   "cell_type": "markdown",
   "id": "a311de11",
   "metadata": {},
   "source": [
    "##### Fetch App IDs in a Threaded Way"
   ]
  },
  {
   "cell_type": "code",
   "execution_count": null,
   "id": "0fa71a09",
   "metadata": {},
   "outputs": [],
   "source": [
    "\n",
    "from concurrent.futures import ThreadPoolExecutor, as_completed\n",
    "from google_play_scraper import search\n",
    "from difflib import get_close_matches\n",
    "from tqdm import tqdm\n",
    "\n",
    "# Use a tuple of (df_index, app_name)\n",
    "def fetch_app_id_with_index(index, app_name):\n",
    "    return index, get_closest_app_id(app_name)\n",
    "\n",
    "def run_threaded_app_search(df, max_workers=10):\n",
    "    results_dict = {}\n",
    "\n",
    "    with ThreadPoolExecutor(max_workers=max_workers) as executor:\n",
    "        futures = {\n",
    "            executor.submit(fetch_app_id_with_index, idx, row['app_name']): idx\n",
    "            for idx, row in df.iterrows()\n",
    "        }\n",
    "        for future in tqdm(as_completed(futures), total=len(futures), desc=\"Searching apps\"):\n",
    "            idx, app_id = future.result()\n",
    "            results_dict[idx] = app_id\n",
    "\n",
    "    # Map results into a new column using original DataFrame index\n",
    "    df['app_id'] = df.index.map(results_dict.get)\n",
    "    return df\n",
    "\n",
    "# Now run it safely\n",
    "df = run_threaded_app_search(df)"
   ]
  },
  {
   "cell_type": "markdown",
   "id": "d884036d",
   "metadata": {},
   "source": [
    "### Save Dataset"
   ]
  },
  {
   "cell_type": "code",
   "execution_count": null,
   "id": "d058bcfc",
   "metadata": {},
   "outputs": [],
   "source": [
    "df.to_csv(\"OtherData/AppIdData/app_ids.csv\", index=False)"
   ]
  },
  {
   "cell_type": "markdown",
   "id": "96f88df3",
   "metadata": {},
   "source": [
    "### Reading The Saved Dataset"
   ]
  },
  {
   "cell_type": "code",
   "execution_count": null,
   "id": "fae43b04",
   "metadata": {},
   "outputs": [],
   "source": [
    "df = pd.read_csv('OtherData/AppIdData/app_ids.csv')\n",
    "\n",
    "# Compute ratio of successful matches\n",
    "total_apps = len(df)\n",
    "found_count = df['app_id'].notna().sum()\n",
    "success_ratio = found_count / total_apps\n",
    "\n",
    "print(f\"Found {found_count} out of {total_apps} apps. Success ratio: {success_ratio:.2%}\")\n",
    "\n",
    "from IPython.display import display\n",
    "\n",
    "# Remove truncation for wide/tall DataFrames (optional)\n",
    "pd.set_option('display.max_rows', None)\n",
    "pd.set_option('display.max_columns', None)\n",
    "pd.set_option('display.width', None)         # Prevent wrapping\n",
    "pd.set_option('display.max_colwidth', None)  # Show full column content\n",
    "display(df) "
   ]
  }
 ],
 "metadata": {
  "kernelspec": {
   "display_name": "lshackaton-coinmind",
   "language": "python",
   "name": "python3"
  },
  "language_info": {
   "codemirror_mode": {
    "name": "ipython",
    "version": 3
   },
   "file_extension": ".py",
   "mimetype": "text/x-python",
   "name": "python",
   "nbconvert_exporter": "python",
   "pygments_lexer": "ipython3",
   "version": "3.12.10"
  }
 },
 "nbformat": 4,
 "nbformat_minor": 5
}
