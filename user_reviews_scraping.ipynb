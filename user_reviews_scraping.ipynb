{
 "cells": [
  {
   "cell_type": "markdown",
   "id": "9a0a11b3",
   "metadata": {},
   "source": [
    "## User Reviews Scraping\n",
    "We fetch all the user reviews from the Play Store and store them in `OtherData/UserReviewsData` in a separate dataset for every app identifier."
   ]
  },
  {
   "cell_type": "markdown",
   "id": "a1964ad3",
   "metadata": {},
   "source": [
    "### The Scraping Logic"
   ]
  },
  {
   "cell_type": "markdown",
   "id": "d638a1d6",
   "metadata": {},
   "source": [
    "Play Store reviews are paginated in the backend so the maximum request we can make at once is for 200 reviews. We fetch reviews in batches of 200."
   ]
  },
  {
   "cell_type": "code",
   "execution_count": null,
   "id": "1439e131",
   "metadata": {},
   "outputs": [],
   "source": [
    "from google_play_scraper import Sort, reviews\n",
    "import simplejson\n",
    "import pandas as pd\n",
    "from tqdm import tqdm\n",
    "\n",
    "\"\"\"\n",
    "Scrape a given number of reviews for a given app in batches of 200 reviews per HTTP request\n",
    "\n",
    ":param app_id the identifier of the app (e.g. com.foobar.app)\n",
    ":param review_count (by default, it scrapes everything)\n",
    "\n",
    ":return a dictionary containing the reviews\n",
    "\"\"\"\n",
    "def scrape_reviews(app_id, review_count=0):\n",
    "    # continuationToken contains the metadata that keeps track of the progress we've made in scraping\n",
    "    results = []\n",
    "    continuation_token = None\n",
    "    batch_size = 200\n",
    "    total_to_fetch = review_count if review_count > 0 else float('inf')\n",
    "\n",
    "    with tqdm(total=total_to_fetch, desc=f\"Scraping reviews for {app_id}\") as pbar:\n",
    "        while len(results) < total_to_fetch:\n",
    "            count = min(batch_size, total_to_fetch - len(results))\n",
    "\n",
    "            result, continuation_token = reviews(\n",
    "                app_id,\n",
    "                lang='en',\n",
    "                country='us',\n",
    "                sort=Sort.NEWEST,\n",
    "                count=count,\n",
    "                continuation_token=continuation_token,\n",
    "            )\n",
    "\n",
    "            if not result:\n",
    "                break\n",
    "\n",
    "            results.extend(result)\n",
    "            pbar.update(len(result))\n",
    "\n",
    "            if continuation_token is None:\n",
    "                break\n",
    "\n",
    "    return results\n"
   ]
  },
  {
   "cell_type": "markdown",
   "id": "be5a4339",
   "metadata": {},
   "source": [
    "### Scraping Every App"
   ]
  },
  {
   "cell_type": "markdown",
   "id": "f3a35289",
   "metadata": {},
   "source": [
    "We give a list of app identifiers to scrape and start working!"
   ]
  },
  {
   "cell_type": "code",
   "execution_count": null,
   "id": "00741ea7",
   "metadata": {},
   "outputs": [],
   "source": [
    "app_ids = ['com.nianticlabs.pokemongo']\n",
    "for app_id in app_ids:\n",
    "    reviews = scrape_reviews(app_name, 15000)\n",
    "    reviews_df = pd.DataFrame(reviews)\n",
    "    print(reviews_df.head(50))\n",
    "    # Drop user information as an attempt to anonymize\n",
    "    reviews_df = reviews_df.drop(['userName', 'userImage'], axis=1)\n",
    "    # Save the dataframe to csv\n",
    "    reviews_df.to_csv('OtherData/UserReviewsData/'+app_name+'.csv', index=False)\n"
   ]
  }
 ],
 "metadata": {
  "kernelspec": {
   "display_name": "lshackaton-coinmind",
   "language": "python",
   "name": "python3"
  },
  "language_info": {
   "codemirror_mode": {
    "name": "ipython",
    "version": 3
   },
   "file_extension": ".py",
   "mimetype": "text/x-python",
   "name": "python",
   "nbconvert_exporter": "python",
   "pygments_lexer": "ipython3",
   "version": "3.12.10"
  }
 },
 "nbformat": 4,
 "nbformat_minor": 5
}
